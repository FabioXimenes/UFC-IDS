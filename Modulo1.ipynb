{
 "cells": [
  {
   "cell_type": "markdown",
   "id": "b5d3b32c",
   "metadata": {},
   "source": [
    "# Introdução à Ciência de Dados - Trabalho Módulo 1"
   ]
  },
  {
   "cell_type": "markdown",
   "id": "9711576a",
   "metadata": {},
   "source": [
    "## Criando um dataset de carros usados coletados a partir da OLX"
   ]
  },
  {
   "cell_type": "markdown",
   "id": "98a58ef1",
   "metadata": {},
   "source": [
    "### Sumário\n",
    "\n",
    "1. [Definição do problema](#Definição-do-problema)\n",
    "2. [Extraindo as urls de cada página](#Extrair-as-urls-dos-carros-de-cada-página-da-OLX)\n",
    "3. [Extraindo as informações de cada carro a partir das urls](#Extraindo-as-informações-de-cada-carro-a-partir-das-urls)\n",
    "    - [Usando um único processo](#Single-Thread-Approach)\n",
    "    - [Usando múltiplos processo (bem mais rápido)](#Single-Thread-Approach)\n",
    "4. [Salvando o dataset]()\n",
    "5. [Analises iniciais do dataset]()\n",
    "6. [Filtrando amostras]()"
   ]
  },
  {
   "cell_type": "markdown",
   "id": "369eae7d",
   "metadata": {},
   "source": [
    "## Definição do problema\n",
    "\n",
    "\n",
    "lorem ipsum etc"
   ]
  },
  {
   "cell_type": "code",
   "execution_count": 1,
   "id": "1f0bceb1",
   "metadata": {},
   "outputs": [],
   "source": [
    "import pandas as pd\n",
    "import numpy as np\n",
    "import json\n",
    "from bs4 import BeautifulSoup\n",
    "import requests\n",
    "import os\n",
    "from tqdm import tqdm"
   ]
  },
  {
   "cell_type": "code",
   "execution_count": 2,
   "id": "3147eff6",
   "metadata": {},
   "outputs": [],
   "source": [
    "BASE_URL = 'https://www.olx.com.br/autos-e-pecas/carros-vans-e-utilitarios'\n",
    "HEADERS = {\n",
    "        'authority': 'olx.com.br',\n",
    "        'method': 'GET',\n",
    "        'scheme': 'https',\n",
    "        'sec-fetch-mode': 'navigate',\n",
    "        'sec-fetch-site': 'same-origin',\n",
    "        'sec-fetch-user': '?1',\n",
    "        'user-agent': 'Mozilla/5.0 (Windows NT 10.0; Win64; x64) AppleWebKit/537.36 (KHTML, like Gecko)'\n",
    "}"
   ]
  },
  {
   "cell_type": "code",
   "execution_count": null,
   "id": "6df637e2",
   "metadata": {},
   "outputs": [],
   "source": [
    "def collect_links(n_pages=5):    \n",
    "    total_pages = get_number_pages()\n",
    "    \n",
    "    if n_pages == 'all' or n_pages > total_pages:\n",
    "        n_pages = total_pages\n",
    "\n",
    "    for page in tqdm(range(n_pages)):\n",
    "        url = f'{BASE_URL}?o={page+1}'\n",
    "        response = requests.get(url=url, headers=HEADERS)\n",
    "        \n",
    "        soup = BeautifulSoup(response.content, 'lxml')\n",
    "        items = soup.find_all('li', {'class': 'sc-1fcmfeb-2 juiJqh'})\n",
    "        \n",
    "        for item in items:\n",
    "            try:\n",
    "                with open('links.txt', 'a') as outfile:\n",
    "                    outfile.write(item.findAll('a')[0]['href']+'\\n')\n",
    "            except IndexError:\n",
    "                continue"
   ]
  },
  {
   "cell_type": "code",
   "execution_count": null,
   "id": "c545a3e2",
   "metadata": {},
   "outputs": [],
   "source": [
    "def get_number_pages():\n",
    "    response = requests.get(url=BASE_URL, headers=HEADERS)\n",
    "    soup = BeautifulSoup(response.content, 'lxml')\n",
    "    results = soup.findAll('span', {'class': 'sc-1mi5vq6-0 eDXljX sc-ifAKCX fhJlIo'})\n",
    "\n",
    "    ITEMS_PER_PAGE = 50\n",
    "    n_cars_found = float(results[0].contents[0].split('de ')[-1].split(' ')[0].replace('.', ''))\n",
    "\n",
    "    return int(n_cars_found/ITEMS_PER_PAGE)"
   ]
  },
  {
   "cell_type": "code",
   "execution_count": 3,
   "id": "11b7f51d",
   "metadata": {},
   "outputs": [],
   "source": [
    "def extract_car_info(link):\n",
    "    response = requests.get(url=link, headers=HEADERS)\n",
    "    soup = BeautifulSoup(response.content, 'lxml')\n",
    "\n",
    "    items = soup.find_all('div', {'class': 'sc-hmzhuo eNZSNe sc-jTzLTM iwtnNi'})\n",
    "\n",
    "    car = {}\n",
    "    # Caracteristics\n",
    "    for item in items:\n",
    "        title = item.find_all('span', {'class': 'sc-ifAKCX dCObfG'})[0].contents[0]\n",
    "        try:\n",
    "            value = item.find_all('span', {'class': 'sc-ifAKCX cmFKIN'})[0].contents[0]\n",
    "        except:\n",
    "            value = item.find_all('a', {'class': 'sc-57pm5w-0 XtcoW'})[0].contents[0]\n",
    "\n",
    "        car[title] = value\n",
    "\n",
    "    locations = soup.find_all('div', {'class': 'sc-hmzhuo sc-1f2ug0x-3 ONRJp sc-jTzLTM iwtnNi'})\n",
    "\n",
    "    # Location\n",
    "    for location in locations:\n",
    "        title = location.find_all('dt', {'class': 'sc-1f2ug0x-0 cLGFbW sc-ifAKCX cmFKIN'})[0].contents[0]\n",
    "        try:\n",
    "            value = location.find_all('dd', {'class': 'sc-1f2ug0x-1 ljYeKO sc-ifAKCX kaNiaQ'})[0].contents[0]\n",
    "        except:\n",
    "            value = None\n",
    "\n",
    "        car[title] = value\n",
    "\n",
    "    car['url'] = link.strip()\n",
    "    return car"
   ]
  },
  {
   "cell_type": "code",
   "execution_count": null,
   "id": "78464dfb",
   "metadata": {},
   "outputs": [],
   "source": [
    "def proccess_links(file):\n",
    "    cars = []\n",
    "    with open('links.txt', 'r') as infile:\n",
    "        links = infile.readlines()\n",
    "        \n",
    "        for link in tqdm(links):\n",
    "            car = extract_car_info(link)\n",
    "            cars.append(car)\n",
    "\n",
    "    df = pd.DataFrame(cars)\n",
    "    df.to_csv('olx_cars.csv')"
   ]
  },
  {
   "cell_type": "markdown",
   "id": "0cd35bbc",
   "metadata": {},
   "source": [
    "## Extrair as urls dos carros de cada página da OLX"
   ]
  },
  {
   "cell_type": "code",
   "execution_count": 4,
   "id": "235fde30",
   "metadata": {},
   "outputs": [],
   "source": [
    "links_file = 'links.txt'\n",
    "if not os.path.exists(links_file):\n",
    "    collect_links(n_pages='all')"
   ]
  },
  {
   "cell_type": "markdown",
   "id": "40ece69a",
   "metadata": {},
   "source": [
    "## Extraindo as informações de cada carro a partir das urls"
   ]
  },
  {
   "cell_type": "markdown",
   "id": "764cf1a6",
   "metadata": {},
   "source": [
    "### Single Thread Approach"
   ]
  },
  {
   "cell_type": "code",
   "execution_count": null,
   "id": "30e7c319",
   "metadata": {},
   "outputs": [],
   "source": [
    "proccess_links(links_file)"
   ]
  },
  {
   "cell_type": "markdown",
   "id": "7a759ba6",
   "metadata": {},
   "source": [
    "### Multithread approach"
   ]
  },
  {
   "cell_type": "code",
   "execution_count": 5,
   "id": "1f67f493",
   "metadata": {},
   "outputs": [],
   "source": [
    "import sys\n",
    "sys.setrecursionlimit(10000)"
   ]
  },
  {
   "cell_type": "code",
   "execution_count": null,
   "id": "b984a060",
   "metadata": {},
   "outputs": [
    {
     "name": "stdout",
     "output_type": "stream",
     "text": [
      "0\n"
     ]
    },
    {
     "name": "stderr",
     "output_type": "stream",
     "text": [
      "100%|██████████| 8000/8000 [07:48<00:00, 17.07it/s]\n"
     ]
    },
    {
     "name": "stdout",
     "output_type": "stream",
     "text": [
      "8000\n"
     ]
    },
    {
     "name": "stderr",
     "output_type": "stream",
     "text": [
      "  7%|▋         | 594/8000 [00:18<03:19, 37.14it/s]"
     ]
    }
   ],
   "source": [
    "from multiprocessing import Pool\n",
    "\n",
    "urls = []\n",
    "with open(links_file, 'r') as infile:\n",
    "    urls = infile.readlines()\n",
    "\n",
    "urls = urls[:100000]\n",
    "\n",
    "chunk_size = 8000\n",
    "for i in range(0, len(urls), chunk_size):\n",
    "    print(i)\n",
    "    url_chunk = urls[i:i+chunk_size]\n",
    "    pool = Pool(12)\n",
    "    results = []\n",
    "    for result in tqdm(pool.imap_unordered(extract_car_info, url_chunk), total=len(url_chunk)):\n",
    "        results.append(result)\n",
    "\n",
    "    df = pd.DataFrame(results)\n",
    "    df.to_csv(f'olx_cars_{i}.csv')\n",
    "    \n",
    "    del results\n",
    "    del df\n",
    "    del url_chunk\n",
    "    \n",
    "    pool.terminate()\n",
    "    pool.join()\n",
    "    \n",
    "    del pool"
   ]
  }
 ],
 "metadata": {
  "kernelspec": {
   "display_name": "Python 3",
   "language": "python",
   "name": "python3"
  },
  "language_info": {
   "codemirror_mode": {
    "name": "ipython",
    "version": 3
   },
   "file_extension": ".py",
   "mimetype": "text/x-python",
   "name": "python",
   "nbconvert_exporter": "python",
   "pygments_lexer": "ipython3",
   "version": "3.8.5"
  }
 },
 "nbformat": 4,
 "nbformat_minor": 5
}
