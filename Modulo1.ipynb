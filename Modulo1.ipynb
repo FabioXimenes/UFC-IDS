{
 "cells": [
  {
   "cell_type": "markdown",
   "id": "b5d3b32c",
   "metadata": {},
   "source": [
    "# Introdução à Ciência de Dados - Trabalho Módulo 1"
   ]
  },
  {
   "cell_type": "markdown",
   "id": "9711576a",
   "metadata": {},
   "source": [
    "## Criando um dataset de carros usados coletados a partir da OLX"
   ]
  },
  {
   "cell_type": "code",
   "execution_count": 1,
   "id": "1f0bceb1",
   "metadata": {},
   "outputs": [],
   "source": [
    "import pandas as pd\n",
    "import numpy as np\n",
    "import json\n",
    "from bs4 import BeautifulSoup\n",
    "import requests\n",
    "import os\n",
    "from tqdm import tqdm\n"
   ]
  },
  {
   "cell_type": "code",
   "execution_count": 2,
   "id": "3147eff6",
   "metadata": {},
   "outputs": [],
   "source": [
    "BASE_URL = 'https://www.olx.com.br/autos-e-pecas/carros-vans-e-utilitarios'\n",
    "HEADERS = {\n",
    "        'authority': 'olx.com.br',\n",
    "        'method': 'GET',\n",
    "        'scheme': 'https',\n",
    "        'sec-fetch-mode': 'navigate',\n",
    "        'sec-fetch-site': 'same-origin',\n",
    "        'sec-fetch-user': '?1',\n",
    "        'user-agent': 'Mozilla/5.0 (Windows NT 10.0; Win64; x64) AppleWebKit/537.36 (KHTML, like Gecko)'\n",
    "}"
   ]
  },
  {
   "cell_type": "code",
   "execution_count": 3,
   "id": "6df637e2",
   "metadata": {},
   "outputs": [],
   "source": [
    "def collect_links(n_pages=5):    \n",
    "    total_pages = get_number_pages()\n",
    "    \n",
    "    if n_pages == 'all' or n_pages > total_pages:\n",
    "        n_pages = total_pages\n",
    "\n",
    "    for page in tqdm(range(n_pages)):\n",
    "        url = f'{BASE_URL}?o={page+1}'\n",
    "        response = requests.get(url=url, headers=HEADERS)\n",
    "        \n",
    "        soup = BeautifulSoup(response.content, 'lxml')\n",
    "        items = soup.find_all('li', {'class': 'sc-1fcmfeb-2 juiJqh'})\n",
    "        \n",
    "        for item in items:\n",
    "            try:\n",
    "                with open('links.txt', 'a') as outfile:\n",
    "                    outfile.write(item.findAll('a')[0]['href']+'\\n')\n",
    "            except IndexError:\n",
    "                continue"
   ]
  },
  {
   "cell_type": "code",
   "execution_count": 4,
   "id": "c545a3e2",
   "metadata": {},
   "outputs": [],
   "source": [
    "def get_number_pages():\n",
    "    response = requests.get(url=BASE_URL, headers=HEADERS)\n",
    "    soup = BeautifulSoup(response.content, 'lxml')\n",
    "    results = soup.findAll('span', {'class': 'sc-1mi5vq6-0 eDXljX sc-ifAKCX fhJlIo'})\n",
    "\n",
    "    ITEMS_PER_PAGE = 50\n",
    "    n_cars_found = float(results[0].contents[0].split('de ')[-1].split(' ')[0].replace('.', ''))\n",
    "\n",
    "    return int(n_cars_found/ITEMS_PER_PAGE)"
   ]
  },
  {
   "cell_type": "code",
   "execution_count": 5,
   "id": "78464dfb",
   "metadata": {},
   "outputs": [],
   "source": [
    "def proccess_links(file):\n",
    "    cars = []\n",
    "    with open('links.txt', 'r') as infile:\n",
    "        links = infile.readlines()\n",
    "        \n",
    "        for link in tqdm(links):\n",
    "            response = requests.get(url=link, headers=HEADERS)\n",
    "            soup = BeautifulSoup(response.content, 'lxml')\n",
    "            \n",
    "            items = soup.find_all('div', {'class': 'sc-hmzhuo eNZSNe sc-jTzLTM iwtnNi'})\n",
    "            \n",
    "            car = {}\n",
    "            # Caracteristics\n",
    "            for item in items:\n",
    "                title = item.find_all('span', {'class': 'sc-ifAKCX dCObfG'})[0].contents[0]\n",
    "                try:\n",
    "                    value = item.find_all('span', {'class': 'sc-ifAKCX cmFKIN'})[0].contents[0]\n",
    "                except:\n",
    "                    value = item.find_all('a', {'class': 'sc-57pm5w-0 XtcoW'})[0].contents[0]\n",
    "                \n",
    "                car[title] = value\n",
    "        \n",
    "            locations = soup.find_all('div', {'class': 'sc-hmzhuo sc-1f2ug0x-3 ONRJp sc-jTzLTM iwtnNi'})\n",
    "            \n",
    "            # Location\n",
    "            for location in locations:\n",
    "                title = location.find_all('dt', {'class': 'sc-1f2ug0x-0 cLGFbW sc-ifAKCX cmFKIN'})[0].contents[0]\n",
    "                value = location.find_all('dd', {'class': 'sc-1f2ug0x-1 ljYeKO sc-ifAKCX kaNiaQ'})[0].contents[0]\n",
    "\n",
    "                car[title] = value\n",
    "            \n",
    "            car['url'] = link.strip()\n",
    "            cars.append(car)\n",
    "\n",
    "    df = pd.DataFrame(cars)\n",
    "    df.to_csv('olx_cars.csv')"
   ]
  },
  {
   "cell_type": "code",
   "execution_count": null,
   "id": "235fde30",
   "metadata": {},
   "outputs": [
    {
     "name": "stderr",
     "output_type": "stream",
     "text": [
      "  0%|          | 21/17293 [00:26<7:01:11,  1.46s/it]"
     ]
    }
   ],
   "source": [
    "links_file = 'links.txt'\n",
    "if not os.path.exists(links_file):\n",
    "    collect_links(n_pages='all')\n",
    "else:\n",
    "    proccess_links(links_file)"
   ]
  },
  {
   "cell_type": "code",
   "execution_count": null,
   "id": "b984a060",
   "metadata": {},
   "outputs": [],
   "source": []
  }
 ],
 "metadata": {
  "kernelspec": {
   "display_name": "Python 3",
   "language": "python",
   "name": "python3"
  },
  "language_info": {
   "codemirror_mode": {
    "name": "ipython",
    "version": 3
   },
   "file_extension": ".py",
   "mimetype": "text/x-python",
   "name": "python",
   "nbconvert_exporter": "python",
   "pygments_lexer": "ipython3",
   "version": "3.8.5"
  }
 },
 "nbformat": 4,
 "nbformat_minor": 5
}
