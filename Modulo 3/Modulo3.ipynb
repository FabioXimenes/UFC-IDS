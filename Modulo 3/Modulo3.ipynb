{
 "cells": [
  {
   "cell_type": "markdown",
   "id": "50fbefb1",
   "metadata": {},
   "source": [
    "# Introdução à Ciência de Dados - Trabalho Módulo 3"
   ]
  },
  {
   "cell_type": "markdown",
   "id": "60e5537b",
   "metadata": {},
   "source": [
    "## Criando um modelo de predição de preços de carros usados"
   ]
  },
  {
   "cell_type": "code",
   "execution_count": 1,
   "id": "54d27c17",
   "metadata": {},
   "outputs": [],
   "source": [
    "import pandas as pd\n",
    "import numpy as np\n",
    "import json\n",
    "import os\n",
    "import matplotlib.pyplot as plt\n",
    "import seaborn as sns\n",
    "from scipy import stats\n",
    "from scipy.stats import norm, skew\n",
    "from sklearn.preprocessing import LabelEncoder\n",
    "from sklearn.model_selection import train_test_split"
   ]
  },
  {
   "cell_type": "code",
   "execution_count": 2,
   "id": "4ee19c33",
   "metadata": {},
   "outputs": [],
   "source": [
    "df = pd.read_csv('cars_dataset_mod2.csv')"
   ]
  },
  {
   "cell_type": "code",
   "execution_count": 3,
   "id": "49620ff9",
   "metadata": {},
   "outputs": [
    {
     "data": {
      "text/html": [
       "<div>\n",
       "<style scoped>\n",
       "    .dataframe tbody tr th:only-of-type {\n",
       "        vertical-align: middle;\n",
       "    }\n",
       "\n",
       "    .dataframe tbody tr th {\n",
       "        vertical-align: top;\n",
       "    }\n",
       "\n",
       "    .dataframe thead th {\n",
       "        text-align: right;\n",
       "    }\n",
       "</style>\n",
       "<table border=\"1\" class=\"dataframe\">\n",
       "  <thead>\n",
       "    <tr style=\"text-align: right;\">\n",
       "      <th></th>\n",
       "      <th>Modelo</th>\n",
       "      <th>Marca</th>\n",
       "      <th>Tipo de veículo</th>\n",
       "      <th>Ano</th>\n",
       "      <th>Quilometragem</th>\n",
       "      <th>Potência do motor</th>\n",
       "      <th>Combustível</th>\n",
       "      <th>Câmbio</th>\n",
       "      <th>Direção</th>\n",
       "      <th>Cor</th>\n",
       "      <th>Portas</th>\n",
       "      <th>Final de placa</th>\n",
       "      <th>CEP</th>\n",
       "      <th>Município</th>\n",
       "      <th>Bairro</th>\n",
       "      <th>price</th>\n",
       "      <th>motor</th>\n",
       "      <th>url</th>\n",
       "    </tr>\n",
       "  </thead>\n",
       "  <tbody>\n",
       "    <tr>\n",
       "      <th>0</th>\n",
       "      <td>FIAT TORO FREEDOM 1.8 16V FLEX AUT.</td>\n",
       "      <td>FIAT</td>\n",
       "      <td>Pick-up</td>\n",
       "      <td>2017</td>\n",
       "      <td>86200.0</td>\n",
       "      <td>1.8</td>\n",
       "      <td>Flex</td>\n",
       "      <td>Automático</td>\n",
       "      <td>Hidráulica</td>\n",
       "      <td>Preto</td>\n",
       "      <td>4.0</td>\n",
       "      <td>5.0</td>\n",
       "      <td>76964008.0</td>\n",
       "      <td>Cacoal</td>\n",
       "      <td>Princesa Isabel</td>\n",
       "      <td>82500.0</td>\n",
       "      <td>1.8</td>\n",
       "      <td>https://ro.olx.com.br/rondonia/autos-e-pecas/c...</td>\n",
       "    </tr>\n",
       "    <tr>\n",
       "      <th>1</th>\n",
       "      <td>VW - VOLKSWAGEN UP! TAKE 1.0 TOTAL FLEX 12V 5P</td>\n",
       "      <td>VW - VOLKSWAGEN</td>\n",
       "      <td>Hatch</td>\n",
       "      <td>2015</td>\n",
       "      <td>100000.0</td>\n",
       "      <td>1.0</td>\n",
       "      <td>Flex</td>\n",
       "      <td>Manual</td>\n",
       "      <td>Hidráulica</td>\n",
       "      <td>Branco</td>\n",
       "      <td>4.0</td>\n",
       "      <td>7.0</td>\n",
       "      <td>76890000.0</td>\n",
       "      <td>Jaru</td>\n",
       "      <td>NaN</td>\n",
       "      <td>32500.0</td>\n",
       "      <td>1.0</td>\n",
       "      <td>https://ro.olx.com.br/rondonia/autos-e-pecas/c...</td>\n",
       "    </tr>\n",
       "    <tr>\n",
       "      <th>2</th>\n",
       "      <td>GM - CHEVROLET PRISMA SED. LT 1.4 8V FLEXPOWER 4P</td>\n",
       "      <td>GM - CHEVROLET</td>\n",
       "      <td>Sedã</td>\n",
       "      <td>2017</td>\n",
       "      <td>64000.0</td>\n",
       "      <td>1.4</td>\n",
       "      <td>Flex</td>\n",
       "      <td>Manual</td>\n",
       "      <td>Elétrica</td>\n",
       "      <td>Preto</td>\n",
       "      <td>4.0</td>\n",
       "      <td>1.0</td>\n",
       "      <td>76821468.0</td>\n",
       "      <td>Porto Velho</td>\n",
       "      <td>Rio Madeira</td>\n",
       "      <td>52900.0</td>\n",
       "      <td>1.4</td>\n",
       "      <td>https://ro.olx.com.br/rondonia/autos-e-pecas/c...</td>\n",
       "    </tr>\n",
       "    <tr>\n",
       "      <th>3</th>\n",
       "      <td>FIAT SIENA ELX 1.0 MPI FIRE/FIRE FLEX 8V 4P</td>\n",
       "      <td>FIAT</td>\n",
       "      <td>Passeio</td>\n",
       "      <td>2007</td>\n",
       "      <td>125869.0</td>\n",
       "      <td>1.0</td>\n",
       "      <td>Flex</td>\n",
       "      <td>Manual</td>\n",
       "      <td>Mecânica</td>\n",
       "      <td>Branco</td>\n",
       "      <td>4.0</td>\n",
       "      <td>4.0</td>\n",
       "      <td>76812476.0</td>\n",
       "      <td>Porto Velho</td>\n",
       "      <td>Três Marias</td>\n",
       "      <td>14000.0</td>\n",
       "      <td>1.0</td>\n",
       "      <td>https://ro.olx.com.br/rondonia/autos-e-pecas/c...</td>\n",
       "    </tr>\n",
       "    <tr>\n",
       "      <th>4</th>\n",
       "      <td>FIAT IDEA ADV.EXT./ADV.EXT. LOC. 1.8 FLEX 5P</td>\n",
       "      <td>FIAT</td>\n",
       "      <td>Hatch</td>\n",
       "      <td>2013</td>\n",
       "      <td>40000.0</td>\n",
       "      <td>1.8</td>\n",
       "      <td>Flex</td>\n",
       "      <td>Automático</td>\n",
       "      <td>Hidráulica</td>\n",
       "      <td>Verde</td>\n",
       "      <td>4.0</td>\n",
       "      <td>7.0</td>\n",
       "      <td>76890000.0</td>\n",
       "      <td>Jaru</td>\n",
       "      <td>NaN</td>\n",
       "      <td>33000.0</td>\n",
       "      <td>1.8</td>\n",
       "      <td>https://ro.olx.com.br/rondonia/autos-e-pecas/c...</td>\n",
       "    </tr>\n",
       "  </tbody>\n",
       "</table>\n",
       "</div>"
      ],
      "text/plain": [
       "                                              Modelo            Marca  \\\n",
       "0                FIAT TORO FREEDOM 1.8 16V FLEX AUT.             FIAT   \n",
       "1     VW - VOLKSWAGEN UP! TAKE 1.0 TOTAL FLEX 12V 5P  VW - VOLKSWAGEN   \n",
       "2  GM - CHEVROLET PRISMA SED. LT 1.4 8V FLEXPOWER 4P   GM - CHEVROLET   \n",
       "3        FIAT SIENA ELX 1.0 MPI FIRE/FIRE FLEX 8V 4P             FIAT   \n",
       "4       FIAT IDEA ADV.EXT./ADV.EXT. LOC. 1.8 FLEX 5P             FIAT   \n",
       "\n",
       "  Tipo de veículo   Ano  Quilometragem Potência do motor Combustível  \\\n",
       "0         Pick-up  2017        86200.0               1.8        Flex   \n",
       "1           Hatch  2015       100000.0               1.0        Flex   \n",
       "2            Sedã  2017        64000.0               1.4        Flex   \n",
       "3         Passeio  2007       125869.0               1.0        Flex   \n",
       "4           Hatch  2013        40000.0               1.8        Flex   \n",
       "\n",
       "       Câmbio     Direção     Cor  Portas  Final de placa         CEP  \\\n",
       "0  Automático  Hidráulica   Preto     4.0             5.0  76964008.0   \n",
       "1      Manual  Hidráulica  Branco     4.0             7.0  76890000.0   \n",
       "2      Manual    Elétrica   Preto     4.0             1.0  76821468.0   \n",
       "3      Manual    Mecânica  Branco     4.0             4.0  76812476.0   \n",
       "4  Automático  Hidráulica   Verde     4.0             7.0  76890000.0   \n",
       "\n",
       "     Município           Bairro    price motor  \\\n",
       "0       Cacoal  Princesa Isabel  82500.0   1.8   \n",
       "1         Jaru              NaN  32500.0   1.0   \n",
       "2  Porto Velho      Rio Madeira  52900.0   1.4   \n",
       "3  Porto Velho      Três Marias  14000.0   1.0   \n",
       "4         Jaru              NaN  33000.0   1.8   \n",
       "\n",
       "                                                 url  \n",
       "0  https://ro.olx.com.br/rondonia/autos-e-pecas/c...  \n",
       "1  https://ro.olx.com.br/rondonia/autos-e-pecas/c...  \n",
       "2  https://ro.olx.com.br/rondonia/autos-e-pecas/c...  \n",
       "3  https://ro.olx.com.br/rondonia/autos-e-pecas/c...  \n",
       "4  https://ro.olx.com.br/rondonia/autos-e-pecas/c...  "
      ]
     },
     "execution_count": 3,
     "metadata": {},
     "output_type": "execute_result"
    }
   ],
   "source": [
    "df.head()"
   ]
  },
  {
   "cell_type": "markdown",
   "id": "2fa1fffa",
   "metadata": {},
   "source": [
    "#### Removendo colunas que não serão usadas"
   ]
  },
  {
   "cell_type": "code",
   "execution_count": 4,
   "id": "174c96d4",
   "metadata": {},
   "outputs": [],
   "source": [
    "df = df.drop(columns=['Modelo', 'Potência do motor', 'Final de placa', 'CEP', 'Município', 'Bairro', 'url'])"
   ]
  },
  {
   "cell_type": "code",
   "execution_count": 5,
   "id": "507993f1",
   "metadata": {},
   "outputs": [
    {
     "data": {
      "text/html": [
       "<div>\n",
       "<style scoped>\n",
       "    .dataframe tbody tr th:only-of-type {\n",
       "        vertical-align: middle;\n",
       "    }\n",
       "\n",
       "    .dataframe tbody tr th {\n",
       "        vertical-align: top;\n",
       "    }\n",
       "\n",
       "    .dataframe thead th {\n",
       "        text-align: right;\n",
       "    }\n",
       "</style>\n",
       "<table border=\"1\" class=\"dataframe\">\n",
       "  <thead>\n",
       "    <tr style=\"text-align: right;\">\n",
       "      <th></th>\n",
       "      <th>Marca</th>\n",
       "      <th>Tipo de veículo</th>\n",
       "      <th>Ano</th>\n",
       "      <th>Quilometragem</th>\n",
       "      <th>Combustível</th>\n",
       "      <th>Câmbio</th>\n",
       "      <th>Direção</th>\n",
       "      <th>Cor</th>\n",
       "      <th>Portas</th>\n",
       "      <th>price</th>\n",
       "      <th>motor</th>\n",
       "    </tr>\n",
       "  </thead>\n",
       "  <tbody>\n",
       "    <tr>\n",
       "      <th>0</th>\n",
       "      <td>FIAT</td>\n",
       "      <td>Pick-up</td>\n",
       "      <td>2017</td>\n",
       "      <td>86200.0</td>\n",
       "      <td>Flex</td>\n",
       "      <td>Automático</td>\n",
       "      <td>Hidráulica</td>\n",
       "      <td>Preto</td>\n",
       "      <td>4.0</td>\n",
       "      <td>82500.0</td>\n",
       "      <td>1.8</td>\n",
       "    </tr>\n",
       "    <tr>\n",
       "      <th>1</th>\n",
       "      <td>VW - VOLKSWAGEN</td>\n",
       "      <td>Hatch</td>\n",
       "      <td>2015</td>\n",
       "      <td>100000.0</td>\n",
       "      <td>Flex</td>\n",
       "      <td>Manual</td>\n",
       "      <td>Hidráulica</td>\n",
       "      <td>Branco</td>\n",
       "      <td>4.0</td>\n",
       "      <td>32500.0</td>\n",
       "      <td>1.0</td>\n",
       "    </tr>\n",
       "    <tr>\n",
       "      <th>2</th>\n",
       "      <td>GM - CHEVROLET</td>\n",
       "      <td>Sedã</td>\n",
       "      <td>2017</td>\n",
       "      <td>64000.0</td>\n",
       "      <td>Flex</td>\n",
       "      <td>Manual</td>\n",
       "      <td>Elétrica</td>\n",
       "      <td>Preto</td>\n",
       "      <td>4.0</td>\n",
       "      <td>52900.0</td>\n",
       "      <td>1.4</td>\n",
       "    </tr>\n",
       "    <tr>\n",
       "      <th>3</th>\n",
       "      <td>FIAT</td>\n",
       "      <td>Passeio</td>\n",
       "      <td>2007</td>\n",
       "      <td>125869.0</td>\n",
       "      <td>Flex</td>\n",
       "      <td>Manual</td>\n",
       "      <td>Mecânica</td>\n",
       "      <td>Branco</td>\n",
       "      <td>4.0</td>\n",
       "      <td>14000.0</td>\n",
       "      <td>1.0</td>\n",
       "    </tr>\n",
       "    <tr>\n",
       "      <th>4</th>\n",
       "      <td>FIAT</td>\n",
       "      <td>Hatch</td>\n",
       "      <td>2013</td>\n",
       "      <td>40000.0</td>\n",
       "      <td>Flex</td>\n",
       "      <td>Automático</td>\n",
       "      <td>Hidráulica</td>\n",
       "      <td>Verde</td>\n",
       "      <td>4.0</td>\n",
       "      <td>33000.0</td>\n",
       "      <td>1.8</td>\n",
       "    </tr>\n",
       "  </tbody>\n",
       "</table>\n",
       "</div>"
      ],
      "text/plain": [
       "             Marca Tipo de veículo   Ano  Quilometragem Combustível  \\\n",
       "0             FIAT         Pick-up  2017        86200.0        Flex   \n",
       "1  VW - VOLKSWAGEN           Hatch  2015       100000.0        Flex   \n",
       "2   GM - CHEVROLET            Sedã  2017        64000.0        Flex   \n",
       "3             FIAT         Passeio  2007       125869.0        Flex   \n",
       "4             FIAT           Hatch  2013        40000.0        Flex   \n",
       "\n",
       "       Câmbio     Direção     Cor  Portas    price motor  \n",
       "0  Automático  Hidráulica   Preto     4.0  82500.0   1.8  \n",
       "1      Manual  Hidráulica  Branco     4.0  32500.0   1.0  \n",
       "2      Manual    Elétrica   Preto     4.0  52900.0   1.4  \n",
       "3      Manual    Mecânica  Branco     4.0  14000.0   1.0  \n",
       "4  Automático  Hidráulica   Verde     4.0  33000.0   1.8  "
      ]
     },
     "execution_count": 5,
     "metadata": {},
     "output_type": "execute_result"
    }
   ],
   "source": [
    "df.head()"
   ]
  },
  {
   "cell_type": "code",
   "execution_count": 6,
   "id": "d6990c29",
   "metadata": {},
   "outputs": [
    {
     "data": {
      "text/plain": [
       "1.0            0.284117\n",
       "1.6            0.197459\n",
       "2.0            0.133280\n",
       "1.4            0.116196\n",
       "1.8            0.093279\n",
       "1.5            0.045857\n",
       "2.8            0.023195\n",
       "3.0            0.018358\n",
       "2.5            0.014393\n",
       "2.4            0.011580\n",
       "3.2            0.009676\n",
       "1.3            0.009543\n",
       "2.0 - 2.9      0.009506\n",
       "2.7            0.005105\n",
       "2.3            0.004608\n",
       "2.2            0.004341\n",
       "3.5            0.002971\n",
       "3.6            0.002049\n",
       "1.2            0.001892\n",
       "1.7            0.001746\n",
       "1.1            0.001576\n",
       "3.0 - 3.9      0.001394\n",
       "3.3            0.001310\n",
       "1.9            0.000970\n",
       "3.8            0.000946\n",
       "4.2            0.000582\n",
       "6.2            0.000582\n",
       "6.7            0.000509\n",
       "3.9            0.000509\n",
       "4.3            0.000461\n",
       "4.0 ou mais    0.000315\n",
       "4.4            0.000243\n",
       "5.0            0.000218\n",
       "4.0            0.000206\n",
       "3.7            0.000206\n",
       "5.9            0.000146\n",
       "4.5            0.000146\n",
       "4.8            0.000097\n",
       "4.7            0.000097\n",
       "3.4            0.000097\n",
       "5.7            0.000073\n",
       "4.1            0.000036\n",
       "2.9            0.000036\n",
       "4.6            0.000024\n",
       "5.2            0.000024\n",
       "2.6            0.000024\n",
       "6.0            0.000012\n",
       "5.8            0.000012\n",
       "Name: motor, dtype: float64"
      ]
     },
     "execution_count": 6,
     "metadata": {},
     "output_type": "execute_result"
    }
   ],
   "source": [
    "item_counts = df[\"motor\"].value_counts(normalize=True)\n",
    "item_counts"
   ]
  },
  {
   "cell_type": "code",
   "execution_count": 7,
   "id": "86e7301b",
   "metadata": {},
   "outputs": [],
   "source": [
    "df = df.replace(to_replace='2.0 - 2.9', value=2.5)\n",
    "df = df.replace(to_replace='3.0 - 3.9', value=3.5)"
   ]
  },
  {
   "cell_type": "code",
   "execution_count": 8,
   "id": "52df0dd0",
   "metadata": {},
   "outputs": [],
   "source": [
    "# Remove '4.0 ou mais' que representa apenas 0.03% do dataset \n",
    "# e não tem uma média direta para substituir\n",
    "df = df[df.motor != '4.0 ou mais']"
   ]
  },
  {
   "cell_type": "code",
   "execution_count": 9,
   "id": "2784e3e7",
   "metadata": {},
   "outputs": [
    {
     "data": {
      "text/plain": [
       "1.0    0.284207\n",
       "1.6    0.197521\n",
       "2.0    0.133322\n",
       "1.4    0.116232\n",
       "1.8    0.093308\n",
       "1.5    0.045872\n",
       "2.8    0.023203\n",
       "3.0    0.018363\n",
       "2.5    0.014397\n",
       "2.4    0.011583\n",
       "3.2    0.009679\n",
       "1.3    0.009546\n",
       "2.5    0.009509\n",
       "2.7    0.005106\n",
       "2.3    0.004609\n",
       "2.2    0.004342\n",
       "3.5    0.002972\n",
       "3.6    0.002050\n",
       "1.2    0.001892\n",
       "1.7    0.001747\n",
       "1.1    0.001577\n",
       "3.5    0.001395\n",
       "3.3    0.001310\n",
       "1.9    0.000970\n",
       "3.8    0.000946\n",
       "6.2    0.000582\n",
       "4.2    0.000582\n",
       "3.9    0.000509\n",
       "6.7    0.000509\n",
       "4.3    0.000461\n",
       "4.4    0.000243\n",
       "5.0    0.000218\n",
       "3.7    0.000206\n",
       "4.0    0.000206\n",
       "4.5    0.000146\n",
       "5.9    0.000146\n",
       "4.7    0.000097\n",
       "4.8    0.000097\n",
       "3.4    0.000097\n",
       "5.7    0.000073\n",
       "4.1    0.000036\n",
       "2.9    0.000036\n",
       "5.2    0.000024\n",
       "2.6    0.000024\n",
       "4.6    0.000024\n",
       "6.0    0.000012\n",
       "5.8    0.000012\n",
       "Name: motor, dtype: float64"
      ]
     },
     "execution_count": 9,
     "metadata": {},
     "output_type": "execute_result"
    }
   ],
   "source": [
    "item_counts = df[\"motor\"].value_counts(normalize=True)\n",
    "item_counts"
   ]
  },
  {
   "cell_type": "code",
   "execution_count": 10,
   "id": "fc439926",
   "metadata": {},
   "outputs": [
    {
     "name": "stdout",
     "output_type": "stream",
     "text": [
      "<class 'pandas.core.frame.DataFrame'>\n",
      "Int64Index: 85773 entries, 0 to 85798\n",
      "Data columns (total 11 columns):\n",
      " #   Column           Non-Null Count  Dtype  \n",
      "---  ------           --------------  -----  \n",
      " 0   Marca            85160 non-null  object \n",
      " 1   Tipo de veículo  74778 non-null  object \n",
      " 2   Ano              85773 non-null  int64  \n",
      " 3   Quilometragem    85773 non-null  float64\n",
      " 4   Combustível      83337 non-null  object \n",
      " 5   Câmbio           83817 non-null  object \n",
      " 6   Direção          73250 non-null  object \n",
      " 7   Cor              75672 non-null  object \n",
      " 8   Portas           81871 non-null  float64\n",
      " 9   price            85773 non-null  float64\n",
      " 10  motor            82447 non-null  object \n",
      "dtypes: float64(3), int64(1), object(7)\n",
      "memory usage: 7.9+ MB\n"
     ]
    }
   ],
   "source": [
    "df.info()"
   ]
  },
  {
   "cell_type": "code",
   "execution_count": 11,
   "id": "cda9bc41",
   "metadata": {},
   "outputs": [],
   "source": [
    "# (df[df['price'] > 150000]).shape"
   ]
  },
  {
   "cell_type": "code",
   "execution_count": 12,
   "id": "ec6c46eb",
   "metadata": {},
   "outputs": [
    {
     "name": "stderr",
     "output_type": "stream",
     "text": [
      "/home/fabio/.virtualenvs/data_science/lib/python3.8/site-packages/seaborn/distributions.py:2557: FutureWarning: `distplot` is a deprecated function and will be removed in a future version. Please adapt your code to use either `displot` (a figure-level function with similar flexibility) or `histplot` (an axes-level function for histograms).\n",
      "  warnings.warn(msg, FutureWarning)\n"
     ]
    },
    {
     "name": "stdout",
     "output_type": "stream",
     "text": [
      "\n",
      " mu = 59764.36 and sigma = 46483.39\n",
      "\n"
     ]
    },
    {
     "data": {
      "text/plain": [
       "Text(0.5, 1.0, 'Price distribution')"
      ]
     },
     "execution_count": 12,
     "metadata": {},
     "output_type": "execute_result"
    },
    {
     "data": {
      "image/png": "[encoded data removed]",
      "text/plain": [
       "<Figure size 432x288 with 1 Axes>"
      ]
     },
     "metadata": {
      "needs_background": "light"
     },
     "output_type": "display_data"
    }
   ],
   "source": [
    "sns.distplot(df['price'] , fit=norm)\n",
    "\n",
    "# Get the fitted parameters used by the function\n",
    "(mu, sigma) = norm.fit(df['price'])\n",
    "print( '\\n mu = {:.2f} and sigma = {:.2f}\\n'.format(mu, sigma))\n",
    "\n",
    "#Now plot the distribution\n",
    "plt.legend(['Normal dist. ($\\mu=$ {:.2f} and $\\sigma=$ {:.2f} )'.format(mu, sigma)],\n",
    "            loc='best')\n",
    "plt.ylabel('Frequency')\n",
    "plt.title('Price distribution')"
   ]
  },
  {
   "cell_type": "code",
   "execution_count": 13,
   "id": "c6f79e6f",
   "metadata": {},
   "outputs": [
    {
     "data": {
      "image/png": "[encoded data removed]",
      "text/plain": [
       "<Figure size 432x288 with 1 Axes>"
      ]
     },
     "metadata": {
      "needs_background": "light"
     },
     "output_type": "display_data"
    }
   ],
   "source": [
    "#Get also the QQ-plot\n",
    "fig = plt.figure()\n",
    "res = stats.probplot(df['price'], plot=plt)\n",
    "plt.show()"
   ]
  },
  {
   "cell_type": "markdown",
   "id": "32d6aa8d",
   "metadata": {},
   "source": [
    "Modelos lineares trabalham bem com dados normalmente distribuídos e os preços não estão normalmente distribuídos. Como forma de tentar melhorar isso, nós podemos transformar essa variável e fazê-la mais normalmente distribuída. Para isso podemos aplicar uma função logaritmica f(x) = log(1+x)"
   ]
  },
  {
   "cell_type": "code",
   "execution_count": 14,
   "id": "0c550949",
   "metadata": {},
   "outputs": [],
   "source": [
    "# df['price'] = np.log1p(df['price'])"
   ]
  },
  {
   "cell_type": "code",
   "execution_count": 15,
   "id": "984d4fe1",
   "metadata": {},
   "outputs": [],
   "source": [
    "# sns.distplot(df['price'] , fit=norm)\n",
    "\n",
    "# # Get the fitted parameters used by the function\n",
    "# (mu, sigma) = norm.fit(df['price'])\n",
    "# print( '\\n mu = {:.2f} and sigma = {:.2f}\\n'.format(mu, sigma))\n",
    "\n",
    "# #Now plot the distribution\n",
    "# plt.legend(['Normal dist. ($\\mu=$ {:.2f} and $\\sigma=$ {:.2f} )'.format(mu, sigma)],\n",
    "#             loc='best')\n",
    "# plt.ylabel('Frequency')\n",
    "# plt.title('Price distribution')"
   ]
  },
  {
   "cell_type": "code",
   "execution_count": 16,
   "id": "491ce4c9",
   "metadata": {},
   "outputs": [],
   "source": [
    "#Get also the QQ-plot\n",
    "# fig = plt.figure()\n",
    "# res = stats.probplot(df['price'], plot=plt)\n",
    "# plt.show()"
   ]
  },
  {
   "cell_type": "markdown",
   "id": "640b7a25",
   "metadata": {},
   "source": [
    "### Feature Engineering"
   ]
  },
  {
   "cell_type": "code",
   "execution_count": 17,
   "id": "2c962af0",
   "metadata": {},
   "outputs": [
    {
     "data": {
      "text/plain": [
       "<AxesSubplot:>"
      ]
     },
     "execution_count": 17,
     "metadata": {},
     "output_type": "execute_result"
    },
    {
     "data": {
      "image/png": "[encoded data removed]",
      "text/plain": [
       "<Figure size 864x648 with 2 Axes>"
      ]
     },
     "metadata": {
      "needs_background": "light"
     },
     "output_type": "display_data"
    }
   ],
   "source": [
    "#Correlation map to see how features are correlated with SalePrice\n",
    "corrmat = df.corr()\n",
    "plt.subplots(figsize=(12,9))\n",
    "sns.heatmap(corrmat, vmax=0.9, square=True)"
   ]
  },
  {
   "cell_type": "code",
   "execution_count": 18,
   "id": "d350ec1a",
   "metadata": {},
   "outputs": [
    {
     "data": {
      "text/html": [
       "<div>\n",
       "<style scoped>\n",
       "    .dataframe tbody tr th:only-of-type {\n",
       "        vertical-align: middle;\n",
       "    }\n",
       "\n",
       "    .dataframe tbody tr th {\n",
       "        vertical-align: top;\n",
       "    }\n",
       "\n",
       "    .dataframe thead th {\n",
       "        text-align: right;\n",
       "    }\n",
       "</style>\n",
       "<table border=\"1\" class=\"dataframe\">\n",
       "  <thead>\n",
       "    <tr style=\"text-align: right;\">\n",
       "      <th></th>\n",
       "      <th>Missing Ratio</th>\n",
       "    </tr>\n",
       "  </thead>\n",
       "  <tbody>\n",
       "    <tr>\n",
       "      <th>Direção</th>\n",
       "      <td>14.600166</td>\n",
       "    </tr>\n",
       "    <tr>\n",
       "      <th>Tipo de veículo</th>\n",
       "      <td>12.818719</td>\n",
       "    </tr>\n",
       "    <tr>\n",
       "      <th>Cor</th>\n",
       "      <td>11.776433</td>\n",
       "    </tr>\n",
       "    <tr>\n",
       "      <th>Portas</th>\n",
       "      <td>4.549217</td>\n",
       "    </tr>\n",
       "    <tr>\n",
       "      <th>motor</th>\n",
       "      <td>3.877677</td>\n",
       "    </tr>\n",
       "    <tr>\n",
       "      <th>Combustível</th>\n",
       "      <td>2.840055</td>\n",
       "    </tr>\n",
       "    <tr>\n",
       "      <th>Câmbio</th>\n",
       "      <td>2.280438</td>\n",
       "    </tr>\n",
       "    <tr>\n",
       "      <th>Marca</th>\n",
       "      <td>0.714677</td>\n",
       "    </tr>\n",
       "  </tbody>\n",
       "</table>\n",
       "</div>"
      ],
      "text/plain": [
       "                 Missing Ratio\n",
       "Direção              14.600166\n",
       "Tipo de veículo      12.818719\n",
       "Cor                  11.776433\n",
       "Portas                4.549217\n",
       "motor                 3.877677\n",
       "Combustível           2.840055\n",
       "Câmbio                2.280438\n",
       "Marca                 0.714677"
      ]
     },
     "execution_count": 18,
     "metadata": {},
     "output_type": "execute_result"
    }
   ],
   "source": [
    "# Verificando a porcentagem de dados faltantes para cada coluna\n",
    "all_data_na = (df.isnull().sum() / len(df)) * 100\n",
    "all_data_na = all_data_na.drop(all_data_na[all_data_na == 0].index).sort_values(ascending=False)[:30]\n",
    "missing_data = pd.DataFrame({'Missing Ratio' :all_data_na})\n",
    "missing_data.head(20)"
   ]
  },
  {
   "cell_type": "code",
   "execution_count": 19,
   "id": "6265c095",
   "metadata": {},
   "outputs": [
    {
     "data": {
      "text/plain": [
       "(85773, 11)"
      ]
     },
     "execution_count": 19,
     "metadata": {},
     "output_type": "execute_result"
    }
   ],
   "source": [
    "df.shape"
   ]
  },
  {
   "cell_type": "code",
   "execution_count": 20,
   "id": "991fee3c",
   "metadata": {},
   "outputs": [
    {
     "data": {
      "text/plain": [
       "(63559, 11)"
      ]
     },
     "execution_count": 20,
     "metadata": {},
     "output_type": "execute_result"
    }
   ],
   "source": [
    "# Remove linhas que contenham dados faltantes.\n",
    "df = df.dropna()\n",
    "df.shape"
   ]
  },
  {
   "cell_type": "markdown",
   "id": "fa40800e",
   "metadata": {},
   "source": [
    "Essa operação reduziu o tamanho do dataset de 85773 para 63559. Como ainda temos muitos dados, primeiro faremos um teste com todas as colunas completas. Dependendo do resultado obtido, podemos adicionar novamente os dados que foram deletados."
   ]
  },
  {
   "cell_type": "code",
   "execution_count": 21,
   "id": "8d439b26",
   "metadata": {},
   "outputs": [],
   "source": [
    "df['Marca'] = df['Marca'].astype(str)\n",
    "df['Tipo de veículo'] = df['Tipo de veículo'].astype(str)\n",
    "df['Ano'] = df['Ano'].astype(int)\n",
    "df['Combustível'] = df['Combustível'].astype(str)\n",
    "df['Câmbio'] = df['Câmbio'].astype(str)\n",
    "df['Direção'] = df['Direção'].astype(str)\n",
    "df['Cor'] = df['Cor'].astype(str)\n",
    "df['Portas'] = df['Portas'].astype(str)\n",
    "df['motor'] = df['motor'].astype(float)"
   ]
  },
  {
   "cell_type": "code",
   "execution_count": 22,
   "id": "45321129",
   "metadata": {},
   "outputs": [
    {
     "name": "stdout",
     "output_type": "stream",
     "text": [
      "<class 'pandas.core.frame.DataFrame'>\n",
      "Int64Index: 63559 entries, 0 to 85798\n",
      "Data columns (total 11 columns):\n",
      " #   Column           Non-Null Count  Dtype  \n",
      "---  ------           --------------  -----  \n",
      " 0   Marca            63559 non-null  object \n",
      " 1   Tipo de veículo  63559 non-null  object \n",
      " 2   Ano              63559 non-null  int64  \n",
      " 3   Quilometragem    63559 non-null  float64\n",
      " 4   Combustível      63559 non-null  object \n",
      " 5   Câmbio           63559 non-null  object \n",
      " 6   Direção          63559 non-null  object \n",
      " 7   Cor              63559 non-null  object \n",
      " 8   Portas           63559 non-null  object \n",
      " 9   price            63559 non-null  float64\n",
      " 10  motor            63559 non-null  float64\n",
      "dtypes: float64(3), int64(1), object(7)\n",
      "memory usage: 5.8+ MB\n"
     ]
    }
   ],
   "source": [
    "df.info()"
   ]
  },
  {
   "cell_type": "markdown",
   "id": "fd7e292e",
   "metadata": {},
   "source": [
    "### Label encoding"
   ]
  },
  {
   "cell_type": "code",
   "execution_count": 23,
   "id": "c5b10668",
   "metadata": {},
   "outputs": [
    {
     "data": {
      "text/plain": [
       "(63559, 11)"
      ]
     },
     "execution_count": 23,
     "metadata": {},
     "output_type": "execute_result"
    }
   ],
   "source": [
    "cols = ('Marca', 'Tipo de veículo', 'Combustível', 'Câmbio', 'Direção', 'Cor', 'Portas')\n",
    "\n",
    "for col in cols:\n",
    "    label = LabelEncoder()\n",
    "    label.fit(list(df[col].values))\n",
    "    df[col] = label.transform(list(df[col].values))\n",
    "    \n",
    "df.shape"
   ]
  },
  {
   "cell_type": "markdown",
   "id": "9b225b05",
   "metadata": {},
   "source": [
    "### Separando os dados em treino e teste"
   ]
  },
  {
   "cell_type": "markdown",
   "id": "30a360d0",
   "metadata": {},
   "source": [
    "Vamos separar os dados em 80% do conjunto para treino e 20% para teste"
   ]
  },
  {
   "cell_type": "code",
   "execution_count": 24,
   "id": "67b68c4c",
   "metadata": {},
   "outputs": [],
   "source": [
    "train, test = train_test_split(df, test_size=0.2)\n",
    "y_train = train.price.values\n",
    "y_test = test.price.values\n",
    "\n",
    "X_train = train.drop(columns=['price'])\n",
    "X_test = test.drop(columns=['price'])"
   ]
  },
  {
   "cell_type": "code",
   "execution_count": 25,
   "id": "21cada03",
   "metadata": {},
   "outputs": [
    {
     "data": {
      "text/plain": [
       "((50847, 10), (50847,), (12712, 10), (12712,))"
      ]
     },
     "execution_count": 25,
     "metadata": {},
     "output_type": "execute_result"
    }
   ],
   "source": [
    "X_train.shape, y_train.shape, X_test.shape, y_test.shape"
   ]
  },
  {
   "cell_type": "markdown",
   "id": "b6a339ab",
   "metadata": {},
   "source": [
    "### Scaling"
   ]
  },
  {
   "cell_type": "markdown",
   "id": "5035fe8e",
   "metadata": {},
   "source": [
    "Conforme a exploração dos dados mostrada anteriormente (modulo 2), foi visto que os dados não são normalmente distribuídos. Sem aplicar uma escala apropriada, os modelos de machine learning vão tentar desprezar coeficientes de features que possuem um valor mais baixo porque o impacto deles será bem pequeno comparados aos valores de features maiores.\n",
    "\n",
    "Min-max scaler subtrai o menor valor na coluna e então divide pela diferença entre o maior e o menor. Além disso, esse tipo de scaler não distorce os dados e é apropriado para quando se tem dados não normalmente distribuídos."
   ]
  },
  {
   "cell_type": "code",
   "execution_count": 26,
   "id": "06c6d557",
   "metadata": {},
   "outputs": [],
   "source": [
    "from sklearn.preprocessing import MinMaxScaler\n",
    "sc = MinMaxScaler()   \n",
    "X_train= sc.fit_transform(X_train)\n",
    "X_test= sc.transform(X_test)"
   ]
  },
  {
   "cell_type": "markdown",
   "id": "026b0866",
   "metadata": {},
   "source": [
    "### Criação dos modelos"
   ]
  },
  {
   "cell_type": "markdown",
   "id": "e9fdc565",
   "metadata": {},
   "source": [
    "## Random Forest"
   ]
  },
  {
   "cell_type": "code",
   "execution_count": 27,
   "id": "24c0c0fd",
   "metadata": {},
   "outputs": [],
   "source": [
    "from sklearn.ensemble import RandomForestRegressor\n",
    "\n",
    "regressor = RandomForestRegressor(n_estimators=20, random_state=0)\n",
    "regressor.fit(X_train, y_train)\n",
    "y_pred = regressor.predict(X_test)\n",
    "accuracy = regressor.score(X_test, y_test)"
   ]
  },
  {
   "cell_type": "code",
   "execution_count": 28,
   "id": "d4d4f952",
   "metadata": {},
   "outputs": [],
   "source": [
    "from sklearn import metrics\n",
    "from sklearn.metrics import mean_squared_error"
   ]
  },
  {
   "cell_type": "code",
   "execution_count": 29,
   "id": "3bdde5e0",
   "metadata": {},
   "outputs": [
    {
     "name": "stdout",
     "output_type": "stream",
     "text": [
      "Mean Absolute Error: 6851.13\n",
      "Root Mean Squared Error: 13441.67\n"
     ]
    }
   ],
   "source": [
    "print('Mean Absolute Error:', round(metrics.mean_absolute_error(y_test, y_pred),2))\n",
    "print('Root Mean Squared Error:', round(np.sqrt(metrics.mean_squared_error(y_test, y_pred)),2))"
   ]
  },
  {
   "cell_type": "markdown",
   "id": "3c2b9c6c",
   "metadata": {},
   "source": [
    "Aumentando o número de árvores de 20 pra 200"
   ]
  },
  {
   "cell_type": "code",
   "execution_count": 30,
   "id": "12872f36",
   "metadata": {},
   "outputs": [],
   "source": [
    "from sklearn.ensemble import RandomForestRegressor\n",
    "\n",
    "regressor = RandomForestRegressor(n_estimators=200, random_state=0)\n",
    "regressor.fit(X_train, y_train)\n",
    "y_pred = regressor.predict(X_test)"
   ]
  },
  {
   "cell_type": "code",
   "execution_count": 31,
   "id": "b8ec689d",
   "metadata": {},
   "outputs": [
    {
     "name": "stdout",
     "output_type": "stream",
     "text": [
      "Mean Absolute Error: 6664.23\n",
      "Root Mean Squared Error: 13043.74\n"
     ]
    }
   ],
   "source": [
    "print('Mean Absolute Error:', round(metrics.mean_absolute_error(y_test, y_pred),2))\n",
    "print('Root Mean Squared Error:', round(np.sqrt(metrics.mean_squared_error(y_test, y_pred)),2))"
   ]
  },
  {
   "cell_type": "markdown",
   "id": "3ef98612",
   "metadata": {},
   "source": [
    "Com 10x mais árvores o modelo teve uma melhora bem baixa"
   ]
  },
  {
   "cell_type": "markdown",
   "id": "fa327bac",
   "metadata": {},
   "source": [
    "### Analisando a relevância das features"
   ]
  },
  {
   "cell_type": "code",
   "execution_count": 32,
   "id": "62890d8b",
   "metadata": {},
   "outputs": [],
   "source": [
    "rf = regressor\n",
    "features = df.drop('price', axis=1)\n",
    "\n",
    "feature_list = list(features.columns)\n",
    "features = np.array(features)"
   ]
  },
  {
   "cell_type": "code",
   "execution_count": 33,
   "id": "14f01bd8",
   "metadata": {},
   "outputs": [
    {
     "name": "stdout",
     "output_type": "stream",
     "text": [
      "Variable: Câmbio               Importance: 0.31\n",
      "Variable: Combustível          Importance: 0.21\n",
      "Variable: Ano                  Importance: 0.2\n",
      "Variable: motor                Importance: 0.11\n",
      "Variable: Marca                Importance: 0.07\n",
      "Variable: Quilometragem        Importance: 0.05\n",
      "Variable: Tipo de veículo      Importance: 0.02\n",
      "Variable: Cor                  Importance: 0.01\n",
      "Variable: Direção              Importance: 0.0\n",
      "Variable: Portas               Importance: 0.0\n"
     ]
    }
   ],
   "source": [
    "# Get numerical feature importances\n",
    "importances = list(rf.feature_importances_)\n",
    "\n",
    "# List of tuples with variable and importance\n",
    "feature_importances = [(feature, round(importance, 2)) for feature, importance in zip(feature_list, importances)]\n",
    "\n",
    "# Sort the feature importances by most important first\n",
    "feature_importances = sorted(feature_importances, key = lambda x: x[1], reverse = True)\n",
    "\n",
    "# Print out the feature and importances \n",
    "[print('Variable: {:20} Importance: {}'.format(*pair)) for pair in feature_importances];"
   ]
  },
  {
   "cell_type": "code",
   "execution_count": 34,
   "id": "9be461d7",
   "metadata": {},
   "outputs": [
    {
     "data": {
      "image/png": "[encoded data removed]",
      "text/plain": [
       "<Figure size 432x288 with 1 Axes>"
      ]
     },
     "metadata": {},
     "output_type": "display_data"
    }
   ],
   "source": [
    "import matplotlib.pyplot as plt\n",
    "%matplotlib inline\n",
    "# Set the style\n",
    "plt.style.use('fivethirtyeight')\n",
    "# list of x locations for plotting\n",
    "x_values = list(range(len(importances)))\n",
    "# Make a bar chart\n",
    "plt.bar(x_values, importances, orientation = 'vertical')\n",
    "# Tick labels for x axis\n",
    "plt.xticks(x_values, feature_list, rotation='vertical')\n",
    "# Axis labels and title\n",
    "plt.ylabel('Importance'); plt.xlabel('Variable'); plt.title('Variable Importances');"
   ]
  },
  {
   "cell_type": "code",
   "execution_count": 35,
   "id": "386a43d0",
   "metadata": {},
   "outputs": [
    {
     "data": {
      "image/png": "[encoded data removed]",
      "text/plain": [
       "<Figure size 432x288 with 1 Axes>"
      ]
     },
     "metadata": {},
     "output_type": "display_data"
    }
   ],
   "source": [
    "# List of features sorted from most to least important\n",
    "sorted_importances = [importance[1] for importance in feature_importances]\n",
    "sorted_features = [importance[0] for importance in feature_importances]\n",
    "# Cumulative importances\n",
    "cumulative_importances = np.cumsum(sorted_importances)\n",
    "# Make a line graph\n",
    "plt.plot(x_values, cumulative_importances, 'g-')\n",
    "# Draw line at 90% of importance retained\n",
    "plt.hlines(y = 0.90, xmin=0, xmax=len(sorted_importances), color = 'r', linestyles = 'dashed')\n",
    "# Format x ticks and labels\n",
    "plt.xticks(x_values, sorted_features, rotation = 'vertical')\n",
    "# Axis labels and title\n",
    "plt.xlabel('Variable'); plt.ylabel('Cumulative Importance');\n",
    "plt.title('Cumulative Importances');"
   ]
  },
  {
   "cell_type": "code",
   "execution_count": 36,
   "id": "2d07116c",
   "metadata": {},
   "outputs": [
    {
     "name": "stdout",
     "output_type": "stream",
     "text": [
      "Number of features for 90% importance: 6\n"
     ]
    }
   ],
   "source": [
    "# Find number of features for cumulative importance of 95%\n",
    "\n",
    "# Add 1 because Python is zero-indexed\n",
    "print('Number of features for 90% importance:', np.where(cumulative_importances > 0.90)[0][0] + 1)"
   ]
  },
  {
   "cell_type": "markdown",
   "id": "94ab108b",
   "metadata": {},
   "source": [
    "Criando um novo modelo com as 5 features mais importantes"
   ]
  },
  {
   "cell_type": "code",
   "execution_count": 37,
   "id": "0c74ff43",
   "metadata": {},
   "outputs": [],
   "source": [
    "# New random forest with only the most important variables\n",
    "from sklearn.ensemble import RandomForestRegressor\n",
    "rf_most_important = RandomForestRegressor(n_estimators=200, random_state=0)"
   ]
  },
  {
   "cell_type": "code",
   "execution_count": 38,
   "id": "df8652e0",
   "metadata": {},
   "outputs": [],
   "source": [
    "# Extract the most important features\n",
    "features= df.drop('price', axis = 1)\n",
    "\n",
    "# Saving feature names for later use\n",
    "feature_list = list(features.columns)\n",
    "# Convert to numpy array\n",
    "features = np.array(features)\n",
    "\n",
    "\n",
    "important_indices = [feature_list.index('Câmbio'), feature_list.index('Ano'), \n",
    "                     feature_list.index('Combustível'), feature_list.index('motor'),\n",
    "                     feature_list.index('Marca')]\n",
    "train_important = X_train[:, important_indices]\n",
    "test_important = X_test[:, important_indices]"
   ]
  },
  {
   "cell_type": "code",
   "execution_count": 39,
   "id": "ad1572e3",
   "metadata": {},
   "outputs": [
    {
     "data": {
      "text/plain": [
       "RandomForestRegressor(n_estimators=200, random_state=0)"
      ]
     },
     "execution_count": 39,
     "metadata": {},
     "output_type": "execute_result"
    }
   ],
   "source": [
    "# Train the random forest\n",
    "rf_most_important.fit(train_important, y_train)"
   ]
  },
  {
   "cell_type": "code",
   "execution_count": 40,
   "id": "53b4eb41",
   "metadata": {},
   "outputs": [],
   "source": [
    "predictions = rf_most_important.predict(test_important)"
   ]
  },
  {
   "cell_type": "code",
   "execution_count": 41,
   "id": "1ca9f75a",
   "metadata": {},
   "outputs": [
    {
     "name": "stdout",
     "output_type": "stream",
     "text": [
      "Mean Absolute Error: 6965.66\n",
      "Mean Squared Error: 171935708.83\n",
      "Root Mean Squared Error: 13112.43\n"
     ]
    }
   ],
   "source": [
    "from sklearn import metrics\n",
    "print('Mean Absolute Error:', round(metrics.mean_absolute_error(y_test, predictions),2))\n",
    "print('Root Mean Squared Error:', round(np.sqrt(metrics.mean_squared_error(y_test, predictions)),2))"
   ]
  },
  {
   "cell_type": "markdown",
   "id": "0ebc80bd",
   "metadata": {},
   "source": [
    "### XGBoost"
   ]
  },
  {
   "cell_type": "code",
   "execution_count": 42,
   "id": "5249e9b5",
   "metadata": {},
   "outputs": [],
   "source": [
    "import xgboost as xgb\n",
    "from sklearn.metrics import mean_squared_error\n",
    "from sklearn.metrics import accuracy_score\n",
    "import pandas as pd\n",
    "import numpy as np\n",
    "import xgboost as xgb"
   ]
  },
  {
   "cell_type": "code",
   "execution_count": 43,
   "id": "e6422838",
   "metadata": {},
   "outputs": [
    {
     "name": "stdout",
     "output_type": "stream",
     "text": [
      "Mean Absolute Error: 8226.31\n",
      "Root Mean Squared Error: 14887.40\n"
     ]
    }
   ],
   "source": [
    "# fit model (base parameters - without tuning)\n",
    "dmatrix = xgb.DMatrix(data=X_train, label=y_train)\n",
    "\n",
    "params = {'objective': 'reg:squarederror'}\n",
    "cv_results = xgb.cv(\n",
    "    dtrain=dmatrix,\n",
    "    params=params,\n",
    "    nfold=10,\n",
    "    metrics={'mae', 'rmse'},\n",
    "    as_pandas=True,\n",
    "    seed=20,\n",
    ")\n",
    "print('Mean Absolute Error: %.2f' % cv_results['test-mae-mean'].min())\n",
    "print('Root Mean Squared Error: %.2f' % cv_results['test-rmse-mean'].min())"
   ]
  },
  {
   "cell_type": "markdown",
   "id": "71ff5859",
   "metadata": {},
   "source": [
    "### Fine tuning"
   ]
  },
  {
   "cell_type": "markdown",
   "id": "d3cb024e",
   "metadata": {},
   "source": [
    "#### Grid Search"
   ]
  },
  {
   "cell_type": "code",
   "execution_count": 44,
   "id": "6eaf9103",
   "metadata": {},
   "outputs": [],
   "source": [
    "from sklearn.model_selection import GridSearchCV\n",
    "\n",
    "params = { 'max_depth': [3,6,10],\n",
    "           'learning_rate': [0.01, 0.05, 0.1],\n",
    "           'n_estimators': [100, 500, 1000],\n",
    "           'colsample_bytree': [0.3, 0.7]}\n",
    "\n",
    "xgbr = xgb.XGBRegressor(seed = 20)\n",
    "clf = GridSearchCV(estimator=xgbr, \n",
    "                   param_grid=params,\n",
    "                   scoring='neg_mean_squared_error', \n",
    "                   verbose=1)"
   ]
  },
  {
   "cell_type": "markdown",
   "id": "799d6dac",
   "metadata": {},
   "source": [
    "Descomentar linhas abaixo para realizar o grid search"
   ]
  },
  {
   "cell_type": "code",
   "execution_count": null,
   "id": "56750079",
   "metadata": {},
   "outputs": [],
   "source": [
    "# clf.fit(X_train, y_train)\n",
    "# print(\"Best parameters:\", clf.best_params_)\n",
    "# print(\"Lowest RMSE: \", (-clf.best_score_)**(1/2.0))"
   ]
  },
  {
   "cell_type": "markdown",
   "id": "f3ae99ef",
   "metadata": {},
   "source": [
    "```\n",
    "Fitting 5 folds for each of 54 candidates, totalling 270 fits\n",
    "Best parameters: {'colsample_bytree': 0.7, 'learning_rate': 0.1, 'max_depth': 6, 'n_estimators': 1000}\n",
    "Lowest RMSE:  11723.696949769306\n",
    "```"
   ]
  },
  {
   "cell_type": "markdown",
   "id": "8edbe76e",
   "metadata": {},
   "source": [
    "#### Random Search"
   ]
  },
  {
   "cell_type": "code",
   "execution_count": 45,
   "id": "2287f061",
   "metadata": {},
   "outputs": [],
   "source": [
    "from sklearn.model_selection import RandomizedSearchCV\n",
    "\n",
    "params = { 'max_depth': [3, 5, 6, 10, 15, 20],\n",
    "           'learning_rate': [0.01, 0.1, 0.2, 0.3],\n",
    "           'subsample': np.arange(0.5, 1.0, 0.1),\n",
    "           'colsample_bytree': np.arange(0.4, 1.0, 0.1),\n",
    "           'colsample_bylevel': np.arange(0.4, 1.0, 0.1),\n",
    "           'n_estimators': [100, 500, 1000]}\n",
    "\n",
    "xgbr = xgb.XGBRegressor(seed = 20)\n",
    "clf = RandomizedSearchCV(estimator=xgbr,\n",
    "                         param_distributions=params,\n",
    "                         scoring='neg_mean_squared_error',\n",
    "                         n_iter=25,\n",
    "                         verbose=1)"
   ]
  },
  {
   "cell_type": "markdown",
   "id": "7150e48a",
   "metadata": {},
   "source": [
    "Descomentar linhas abaixo para realizar o random search"
   ]
  },
  {
   "cell_type": "code",
   "execution_count": null,
   "id": "05fce733",
   "metadata": {},
   "outputs": [],
   "source": [
    "# clf.fit(X_train, y_train)\n",
    "# print(\"Best parameters:\", clf.best_params_)\n",
    "# print(\"Lowest RMSE: \", (-clf.best_score_)**(1/2.0))"
   ]
  },
  {
   "cell_type": "markdown",
   "id": "2abbd7a7",
   "metadata": {},
   "source": [
    "```\n",
    "Fitting 5 folds for each of 25 candidates, totalling 125 fits\n",
    "Best parameters: {'subsample': 0.7999999999999999, 'n_estimators': 500, 'max_depth': 20, 'learning_rate': 0.01, 'colsample_bytree': 0.7, 'colsample_bylevel': 0.8999999999999999}\n",
    "Lowest RMSE:  11996.287009941268\n",
    "```"
   ]
  },
  {
   "cell_type": "code",
   "execution_count": 46,
   "id": "9a8fad23",
   "metadata": {},
   "outputs": [],
   "source": [
    "# fit model (best parameters - tunned)\n",
    "xgb_model = xgb.XGBRegressor(objective ='reg:squarederror', colsample_bytree = 0.7, learning_rate = 0.1,\n",
    "                max_depth = 6, alpha = 10, n_estimators = 1000, seed=20)\n",
    "\n",
    "xgb_model.fit(X_train, y_train)\n",
    "\n",
    "preds = xgb_model.predict(X_test)"
   ]
  },
  {
   "cell_type": "code",
   "execution_count": 47,
   "id": "c1654df3",
   "metadata": {},
   "outputs": [
    {
     "name": "stdout",
     "output_type": "stream",
     "text": [
      "MAE: 6368.397503343298\n",
      "RMSE: 11387.017359367253\n"
     ]
    }
   ],
   "source": [
    "mae = metrics.mean_absolute_error(y_test, preds)\n",
    "rmse = np.sqrt(mean_squared_error(y_test, preds))\n",
    "print(f'MAE: {mae}')\n",
    "print(f'RMSE: {rmse}')"
   ]
  },
  {
   "cell_type": "markdown",
   "id": "de5989e9",
   "metadata": {},
   "source": [
    "MAE  = 6440\n",
    "RMSE = 11903"
   ]
  },
  {
   "cell_type": "markdown",
   "id": "bd70db44",
   "metadata": {},
   "source": [
    "Houve uma melhoria significativa usando XGBoost com fine tuning em relação ao melhor modelo anterior (Random Forest com 200 trees - MAE: 6704.07, RMSE: 13267.71). Uma redução de 4% em relação ao MAE e uma redução de mais de 10,24% em relação ao RMSE obtidos pelo Random Forest."
   ]
  },
  {
   "cell_type": "code",
   "execution_count": null,
   "id": "eedd531a",
   "metadata": {},
   "outputs": [],
   "source": []
  },
  {
   "cell_type": "markdown",
   "id": "b38a2d29",
   "metadata": {},
   "source": [
    "Esse é um bom resultado se a gente levar em consideração preços mais elevados, mas para baixos preços pode ser bem ruim. Para tentar reduzir esse erro podemos tentar limitar um pouco mais o dataset em relação aos preços para tentar acertar os preços apenas de carros mais populares."
   ]
  },
  {
   "cell_type": "code",
   "execution_count": 48,
   "id": "8454fa20",
   "metadata": {},
   "outputs": [
    {
     "name": "stderr",
     "output_type": "stream",
     "text": [
      "/home/fabio/.virtualenvs/data_science/lib/python3.8/site-packages/seaborn/distributions.py:2557: FutureWarning: `distplot` is a deprecated function and will be removed in a future version. Please adapt your code to use either `displot` (a figure-level function with similar flexibility) or `histplot` (an axes-level function for histograms).\n",
      "  warnings.warn(msg, FutureWarning)\n"
     ]
    },
    {
     "name": "stdout",
     "output_type": "stream",
     "text": [
      "\n",
      " mu = 57769.62 and sigma = 45480.04\n",
      "\n"
     ]
    },
    {
     "data": {
      "text/plain": [
       "Text(0.5, 1.0, 'Price distribution')"
      ]
     },
     "execution_count": 48,
     "metadata": {},
     "output_type": "execute_result"
    },
    {
     "data": {
      "image/png": "[encoded data removed]",
      "text/plain": [
       "<Figure size 432x288 with 1 Axes>"
      ]
     },
     "metadata": {},
     "output_type": "display_data"
    }
   ],
   "source": [
    "sns.distplot(df['price'] , fit=norm)\n",
    "\n",
    "# Get the fitted parameters used by the function\n",
    "(mu, sigma) = norm.fit(df['price'])\n",
    "print( '\\n mu = {:.2f} and sigma = {:.2f}\\n'.format(mu, sigma))\n",
    "\n",
    "#Now plot the distribution\n",
    "plt.legend(['Normal dist. ($\\mu=$ {:.2f} and $\\sigma=$ {:.2f} )'.format(mu, sigma)],\n",
    "            loc='best')\n",
    "plt.ylabel('Frequency')\n",
    "plt.title('Price distribution')"
   ]
  },
  {
   "cell_type": "markdown",
   "id": "d806660f",
   "metadata": {},
   "source": [
    "Como podemos observar pela distribuição dos preços, carros acima de R\\\\$ 150k são bem raros no dataset. Também limitaremos inferiormente em R\\$ 20k, que é em torno de um carro antigo popular, isso pode evitar muitos outliers."
   ]
  },
  {
   "cell_type": "code",
   "execution_count": 49,
   "id": "37839ce6",
   "metadata": {},
   "outputs": [
    {
     "data": {
      "text/html": [
       "<div>\n",
       "<style scoped>\n",
       "    .dataframe tbody tr th:only-of-type {\n",
       "        vertical-align: middle;\n",
       "    }\n",
       "\n",
       "    .dataframe tbody tr th {\n",
       "        vertical-align: top;\n",
       "    }\n",
       "\n",
       "    .dataframe thead th {\n",
       "        text-align: right;\n",
       "    }\n",
       "</style>\n",
       "<table border=\"1\" class=\"dataframe\">\n",
       "  <thead>\n",
       "    <tr style=\"text-align: right;\">\n",
       "      <th></th>\n",
       "      <th>Marca</th>\n",
       "      <th>Tipo de veículo</th>\n",
       "      <th>Ano</th>\n",
       "      <th>Quilometragem</th>\n",
       "      <th>Combustível</th>\n",
       "      <th>Câmbio</th>\n",
       "      <th>Direção</th>\n",
       "      <th>Cor</th>\n",
       "      <th>Portas</th>\n",
       "      <th>price</th>\n",
       "      <th>motor</th>\n",
       "    </tr>\n",
       "  </thead>\n",
       "  <tbody>\n",
       "    <tr>\n",
       "      <th>0</th>\n",
       "      <td>12</td>\n",
       "      <td>5</td>\n",
       "      <td>2017</td>\n",
       "      <td>86200.0</td>\n",
       "      <td>1</td>\n",
       "      <td>0</td>\n",
       "      <td>2</td>\n",
       "      <td>7</td>\n",
       "      <td>1</td>\n",
       "      <td>82500.0</td>\n",
       "      <td>1.8</td>\n",
       "    </tr>\n",
       "    <tr>\n",
       "      <th>1</th>\n",
       "      <td>53</td>\n",
       "      <td>3</td>\n",
       "      <td>2015</td>\n",
       "      <td>100000.0</td>\n",
       "      <td>1</td>\n",
       "      <td>1</td>\n",
       "      <td>2</td>\n",
       "      <td>2</td>\n",
       "      <td>1</td>\n",
       "      <td>32500.0</td>\n",
       "      <td>1.0</td>\n",
       "    </tr>\n",
       "    <tr>\n",
       "      <th>2</th>\n",
       "      <td>17</td>\n",
       "      <td>7</td>\n",
       "      <td>2017</td>\n",
       "      <td>64000.0</td>\n",
       "      <td>1</td>\n",
       "      <td>1</td>\n",
       "      <td>1</td>\n",
       "      <td>7</td>\n",
       "      <td>1</td>\n",
       "      <td>52900.0</td>\n",
       "      <td>1.4</td>\n",
       "    </tr>\n",
       "    <tr>\n",
       "      <th>4</th>\n",
       "      <td>12</td>\n",
       "      <td>3</td>\n",
       "      <td>2013</td>\n",
       "      <td>40000.0</td>\n",
       "      <td>1</td>\n",
       "      <td>0</td>\n",
       "      <td>2</td>\n",
       "      <td>8</td>\n",
       "      <td>1</td>\n",
       "      <td>33000.0</td>\n",
       "      <td>1.8</td>\n",
       "    </tr>\n",
       "    <tr>\n",
       "      <th>5</th>\n",
       "      <td>12</td>\n",
       "      <td>5</td>\n",
       "      <td>2014</td>\n",
       "      <td>90000.0</td>\n",
       "      <td>1</td>\n",
       "      <td>1</td>\n",
       "      <td>2</td>\n",
       "      <td>2</td>\n",
       "      <td>0</td>\n",
       "      <td>44000.0</td>\n",
       "      <td>1.4</td>\n",
       "    </tr>\n",
       "    <tr>\n",
       "      <th>...</th>\n",
       "      <td>...</td>\n",
       "      <td>...</td>\n",
       "      <td>...</td>\n",
       "      <td>...</td>\n",
       "      <td>...</td>\n",
       "      <td>...</td>\n",
       "      <td>...</td>\n",
       "      <td>...</td>\n",
       "      <td>...</td>\n",
       "      <td>...</td>\n",
       "      <td>...</td>\n",
       "    </tr>\n",
       "    <tr>\n",
       "      <th>85793</th>\n",
       "      <td>41</td>\n",
       "      <td>6</td>\n",
       "      <td>2020</td>\n",
       "      <td>24000.0</td>\n",
       "      <td>1</td>\n",
       "      <td>0</td>\n",
       "      <td>1</td>\n",
       "      <td>2</td>\n",
       "      <td>1</td>\n",
       "      <td>99990.0</td>\n",
       "      <td>1.6</td>\n",
       "    </tr>\n",
       "    <tr>\n",
       "      <th>85794</th>\n",
       "      <td>12</td>\n",
       "      <td>3</td>\n",
       "      <td>2016</td>\n",
       "      <td>65000.0</td>\n",
       "      <td>1</td>\n",
       "      <td>1</td>\n",
       "      <td>2</td>\n",
       "      <td>3</td>\n",
       "      <td>1</td>\n",
       "      <td>34800.0</td>\n",
       "      <td>1.0</td>\n",
       "    </tr>\n",
       "    <tr>\n",
       "      <th>85795</th>\n",
       "      <td>53</td>\n",
       "      <td>3</td>\n",
       "      <td>2012</td>\n",
       "      <td>80000.0</td>\n",
       "      <td>1</td>\n",
       "      <td>1</td>\n",
       "      <td>2</td>\n",
       "      <td>6</td>\n",
       "      <td>1</td>\n",
       "      <td>26990.0</td>\n",
       "      <td>1.0</td>\n",
       "    </tr>\n",
       "    <tr>\n",
       "      <th>85796</th>\n",
       "      <td>12</td>\n",
       "      <td>3</td>\n",
       "      <td>2019</td>\n",
       "      <td>32900.0</td>\n",
       "      <td>1</td>\n",
       "      <td>1</td>\n",
       "      <td>1</td>\n",
       "      <td>6</td>\n",
       "      <td>1</td>\n",
       "      <td>45900.0</td>\n",
       "      <td>1.3</td>\n",
       "    </tr>\n",
       "    <tr>\n",
       "      <th>85798</th>\n",
       "      <td>12</td>\n",
       "      <td>5</td>\n",
       "      <td>2019</td>\n",
       "      <td>43000.0</td>\n",
       "      <td>1</td>\n",
       "      <td>0</td>\n",
       "      <td>1</td>\n",
       "      <td>2</td>\n",
       "      <td>1</td>\n",
       "      <td>99990.0</td>\n",
       "      <td>1.8</td>\n",
       "    </tr>\n",
       "  </tbody>\n",
       "</table>\n",
       "<p>53131 rows × 11 columns</p>\n",
       "</div>"
      ],
      "text/plain": [
       "       Marca  Tipo de veículo   Ano  Quilometragem  Combustível  Câmbio  \\\n",
       "0         12                5  2017        86200.0            1       0   \n",
       "1         53                3  2015       100000.0            1       1   \n",
       "2         17                7  2017        64000.0            1       1   \n",
       "4         12                3  2013        40000.0            1       0   \n",
       "5         12                5  2014        90000.0            1       1   \n",
       "...      ...              ...   ...            ...          ...     ...   \n",
       "85793     41                6  2020        24000.0            1       0   \n",
       "85794     12                3  2016        65000.0            1       1   \n",
       "85795     53                3  2012        80000.0            1       1   \n",
       "85796     12                3  2019        32900.0            1       1   \n",
       "85798     12                5  2019        43000.0            1       0   \n",
       "\n",
       "       Direção  Cor  Portas    price  motor  \n",
       "0            2    7       1  82500.0    1.8  \n",
       "1            2    2       1  32500.0    1.0  \n",
       "2            1    7       1  52900.0    1.4  \n",
       "4            2    8       1  33000.0    1.8  \n",
       "5            2    2       0  44000.0    1.4  \n",
       "...        ...  ...     ...      ...    ...  \n",
       "85793        1    2       1  99990.0    1.6  \n",
       "85794        2    3       1  34800.0    1.0  \n",
       "85795        2    6       1  26990.0    1.0  \n",
       "85796        1    6       1  45900.0    1.3  \n",
       "85798        1    2       1  99990.0    1.8  \n",
       "\n",
       "[53131 rows x 11 columns]"
      ]
     },
     "execution_count": 49,
     "metadata": {},
     "output_type": "execute_result"
    }
   ],
   "source": [
    "df = df[df['price'] <= 150000]\n",
    "df = df[df['price'] >= 20000]\n",
    "df"
   ]
  },
  {
   "cell_type": "code",
   "execution_count": 50,
   "id": "77ea7c5d",
   "metadata": {},
   "outputs": [],
   "source": [
    "train, test = train_test_split(df, test_size=0.2)\n",
    "y_train = train.price.values\n",
    "y_test = test.price.values\n",
    "\n",
    "X_train = train.drop(columns=['price'])\n",
    "X_test = test.drop(columns=['price'])"
   ]
  },
  {
   "cell_type": "code",
   "execution_count": 51,
   "id": "c52b6ea0",
   "metadata": {},
   "outputs": [],
   "source": [
    "# fit model (best parameters - tunned)\n",
    "xgb_model = xgb.XGBRegressor(objective ='reg:squarederror', colsample_bytree = 0.7, learning_rate = 0.1,\n",
    "                max_depth = 6, alpha = 10, n_estimators = 1000, seed=20)\n",
    "\n",
    "xgb_model.fit(X_train, y_train)\n",
    "\n",
    "preds = xgb_model.predict(X_test)"
   ]
  },
  {
   "cell_type": "code",
   "execution_count": 52,
   "id": "e6c4a3d7",
   "metadata": {},
   "outputs": [
    {
     "name": "stdout",
     "output_type": "stream",
     "text": [
      "MAE: 5416.541247750423\n",
      "RMSE: 8460.27914476452\n"
     ]
    }
   ],
   "source": [
    "mae = metrics.mean_absolute_error(y_test, preds)\n",
    "rmse = np.sqrt(mean_squared_error(y_test, preds))\n",
    "print(f'MAE: {mae}')\n",
    "print(f'RMSE: {rmse}')"
   ]
  },
  {
   "cell_type": "code",
   "execution_count": null,
   "id": "05a9761d",
   "metadata": {},
   "outputs": [],
   "source": []
  },
  {
   "cell_type": "markdown",
   "id": "c2b77cff",
   "metadata": {},
   "source": [
    "## Resultados\n",
    "\n",
    "\n",
    "| Método | MAE | RMSE |\n",
    "| --- | --- | --- |\n",
    "| Random Forest (n=20) | 6786.68 | 13150.56 |\n",
    "| Random Forest (n=200) | 6682.56 | 13015.13 |\n",
    "| Random Forest (n=200, somente 6 principais features) | 7022.75 | 13123.46 |\n",
    "| XGBoost (default parameters) | 8235.51 | 14993.67 |\n",
    "| XGBoost (fine tunned) | 6449.54 | 11739.78 |\n",
    "| XGBoost (fine tunned, com dataset limitado entre R\\\\$ 20k a R\\$150k) | **5416.54** | **8460.28** |"
   ]
  }
 ],
 "metadata": {
  "kernelspec": {
   "display_name": "Python 3",
   "language": "python",
   "name": "python3"
  },
  "language_info": {
   "codemirror_mode": {
    "name": "ipython",
    "version": 3
   },
   "file_extension": ".py",
   "mimetype": "text/x-python",
   "name": "python",
   "nbconvert_exporter": "python",
   "pygments_lexer": "ipython3",
   "version": "3.8.10"
  }
 },
 "nbformat": 4,
 "nbformat_minor": 5
}
